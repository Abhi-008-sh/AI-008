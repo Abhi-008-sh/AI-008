{
  "nbformat": 4,
  "nbformat_minor": 0,
  "metadata": {
    "colab": {
      "provenance": [],
      "authorship_tag": "ABX9TyOzv8dJyjBMMy0QvW2gdtHj",
      "include_colab_link": true
    },
    "kernelspec": {
      "name": "python3",
      "display_name": "Python 3"
    },
    "language_info": {
      "name": "python"
    }
  },
  "cells": [
    {
      "cell_type": "markdown",
      "metadata": {
        "id": "view-in-github",
        "colab_type": "text"
      },
      "source": [
        "<a href=\"https://colab.research.google.com/github/Abhi-008-sh/AI-008/blob/main/1BM22CS008_Week1_VacuumCleaner.ipynb\" target=\"_parent\"><img src=\"https://colab.research.google.com/assets/colab-badge.svg\" alt=\"Open In Colab\"/></a>"
      ]
    },
    {
      "cell_type": "code",
      "execution_count": 9,
      "metadata": {
        "colab": {
          "base_uri": "https://localhost:8080/"
        },
        "id": "aFN5Bqc2wk7Y",
        "outputId": "aaab7fe6-d5b0-4c41-b2eb-1b4a29501388"
      },
      "outputs": [
        {
          "output_type": "stream",
          "name": "stdout",
          "text": [
            "Cleaning quadrant A.\n",
            "Moving to quadrant B.\n",
            "Both quadrants are clean!\n"
          ]
        }
      ],
      "source": [
        "class VacuumCleaner:\n",
        "    def __init__(self):\n",
        "        self.environment = {'A': 'dirty', 'B': 'clean'}\n",
        "        self.current_quadrant = 'A'\n",
        "\n",
        "    def clean(self):\n",
        "        \"\"\"Cleans the current quadrant.\"\"\"\n",
        "        print(f\"Cleaning quadrant {self.current_quadrant}.\")\n",
        "        self.environment[self.current_quadrant] = 'clean'\n",
        "\n",
        "    def check_quadrant(self):\n",
        "        \"\"\"Checks the current quadrant for dirt.\"\"\"\n",
        "        if self.environment[self.current_quadrant] == 'dirty':\n",
        "            self.clean()\n",
        "        else:\n",
        "            print(f\"Quadrant {self.current_quadrant} is clean.\")\n",
        "\n",
        "    def switch_quadrant(self):\n",
        "        \"\"\"Switches to the other quadrant.\"\"\"\n",
        "        if self.current_quadrant == 'A':\n",
        "            self.current_quadrant = 'B'\n",
        "        else:\n",
        "            self.current_quadrant = 'A'\n",
        "        print(f\"Moving to quadrant {self.current_quadrant}.\")\n",
        "\n",
        "    def run(self):\n",
        "        \"\"\"Runs the vacuum cleaner until both quadrants are clean.\"\"\"\n",
        "        while 'dirty' in self.environment.values():\n",
        "            self.check_quadrant()\n",
        "            self.switch_quadrant()\n",
        "        print(\"Both quadrants are clean!\")\n",
        "\n",
        "\n",
        "if __name__ == \"__main__\":\n",
        "    vacuum = VacuumCleaner()\n",
        "    vacuum.run()\n"
      ]
    }
  ]
}