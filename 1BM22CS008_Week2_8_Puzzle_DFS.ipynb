{
  "nbformat": 4,
  "nbformat_minor": 0,
  "metadata": {
    "colab": {
      "provenance": [],
      "authorship_tag": "ABX9TyOrn2Drz6jutQThIC28uEvK",
      "include_colab_link": true
    },
    "kernelspec": {
      "name": "python3",
      "display_name": "Python 3"
    },
    "language_info": {
      "name": "python"
    }
  },
  "cells": [
    {
      "cell_type": "markdown",
      "metadata": {
        "id": "view-in-github",
        "colab_type": "text"
      },
      "source": [
        "<a href=\"https://colab.research.google.com/github/Abhi-008-sh/AI-008/blob/main/1BM22CS008_Week2_8_Puzzle_DFS.ipynb\" target=\"_parent\"><img src=\"https://colab.research.google.com/assets/colab-badge.svg\" alt=\"Open In Colab\"/></a>"
      ]
    },
    {
      "cell_type": "code",
      "execution_count": 11,
      "metadata": {
        "colab": {
          "base_uri": "https://localhost:8080/"
        },
        "id": "aFN5Bqc2wk7Y",
        "outputId": "7abe7707-fea2-43c7-e725-4fe044914c99"
      },
      "outputs": [
        {
          "output_type": "stream",
          "name": "stdout",
          "text": [
            "8-Puzzle problem using DFS\n",
            "Number of moves: 2049\n",
            "Final board state:\n",
            "[1, 2, 3]\n",
            "[8, 0, 4]\n",
            "[7, 6, 5]\n"
          ]
        }
      ],
      "source": [
        "\n",
        "print(\"8-Puzzle problem using DFS\")\n",
        "\n",
        "class PuzzleState:\n",
        "    def __init__(self, board, empty_pos, moves=0, previous=None):\n",
        "        self.board = board\n",
        "        self.empty_pos = empty_pos\n",
        "        self.moves = moves\n",
        "        self.previous = previous\n",
        "\n",
        "    def is_goal(self, goal):\n",
        "        return self.board == goal\n",
        "\n",
        "    def get_possible_moves(self):\n",
        "        moves = []\n",
        "        x, y = self.empty_pos\n",
        "        directions = [(0, 1), (1, 0), (0, -1), (-1, 0)]\n",
        "\n",
        "        for dx, dy in directions:\n",
        "            new_x, new_y = x + dx, y + dy\n",
        "            if 0 <= new_x < 3 and 0 <= new_y < 3:\n",
        "                new_board = [row[:] for row in self.board]\n",
        "                new_board[x][y], new_board[new_x][new_y] = new_board[new_x][new_y], new_board[x][y]\n",
        "                moves.append(PuzzleState(new_board, (new_x, new_y), self.moves + 1, self))\n",
        "        return moves\n",
        "\n",
        "\n",
        "def depth_first_search(start, goal):\n",
        "    stack = [start]\n",
        "    visited = set()\n",
        "\n",
        "    while stack:\n",
        "        current = stack.pop()\n",
        "\n",
        "        if current.is_goal(goal):\n",
        "            return current\n",
        "\n",
        "        visited.add(tuple(map(tuple, current.board)))\n",
        "\n",
        "        for move in current.get_possible_moves():\n",
        "            if tuple(map(tuple, move.board)) not in visited:\n",
        "                stack.append(move)\n",
        "\n",
        "    return None\n",
        "\n",
        "\n",
        "def print_solution(solution):\n",
        "    if solution:\n",
        "        print(\"Number of moves:\", solution.moves)\n",
        "        print(\"Final board state:\")\n",
        "        for row in solution.board:\n",
        "            print(row)\n",
        "    else:\n",
        "        print(\"No solution found!\")\n",
        "\n",
        "\n",
        "if __name__ == \"__main__\":\n",
        "    start_board = [\n",
        "        [2, 8, 3],\n",
        "        [1, 6, 4],\n",
        "        [7, 0, 5]\n",
        "    ]\n",
        "    goal_board = [\n",
        "        [1, 2, 3],\n",
        "        [8, 0, 4],\n",
        "        [7, 6, 5]\n",
        "    ]\n",
        "    empty_tile_pos = (1, 0)\n",
        "\n",
        "    start_state = PuzzleState(start_board, empty_tile_pos)\n",
        "    solution = depth_first_search(start_state, goal_board)\n",
        "    print_solution(solution)\n"
      ]
    }
  ]
}