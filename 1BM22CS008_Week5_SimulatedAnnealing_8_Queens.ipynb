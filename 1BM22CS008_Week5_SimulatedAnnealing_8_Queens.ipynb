{
  "nbformat": 4,
  "nbformat_minor": 0,
  "metadata": {
    "colab": {
      "provenance": [],
      "authorship_tag": "ABX9TyOtNvxqoPaP8Hnm/gj3qNXZ",
      "include_colab_link": true
    },
    "kernelspec": {
      "name": "python3",
      "display_name": "Python 3"
    },
    "language_info": {
      "name": "python"
    }
  },
  "cells": [
    {
      "cell_type": "markdown",
      "metadata": {
        "id": "view-in-github",
        "colab_type": "text"
      },
      "source": [
        "<a href=\"https://colab.research.google.com/github/Abhi-008-sh/AI-008/blob/main/1BM22CS008_Week5_SimulatedAnnealing_8_Queens.ipynb\" target=\"_parent\"><img src=\"https://colab.research.google.com/assets/colab-badge.svg\" alt=\"Open In Colab\"/></a>"
      ]
    },
    {
      "cell_type": "code",
      "execution_count": 3,
      "metadata": {
        "colab": {
          "base_uri": "https://localhost:8080/"
        },
        "id": "aU7lPAHelaee",
        "outputId": "de02a6ff-e7dd-4ea0-f2ff-ff32882b1334"
      },
      "outputs": [
        {
          "output_type": "stream",
          "name": "stdout",
          "text": [
            "Enter the number of queens: 8\n",
            "Do you want to provide an initial configuration? (y/n): y\n",
            "Enter the column positions for each queen (values between 0 and 7):\n",
            "Enter column for queen 1: 0\n",
            "Enter column for queen 2: 4\n",
            "Enter column for queen 3: 3\n",
            "Enter column for queen 4: 7\n",
            "Enter column for queen 5: 6\n",
            "Enter column for queen 6: 1\n",
            "Enter column for queen 7: 2\n",
            "Enter column for queen 8: 5\n",
            "The best solution found is: [2 4 7 3 0 6 1 5]\n",
            "The number of attacking queen pairs is: 0\n",
            "Queen 1 is at position (0, 2)\n",
            "Queen 2 is at position (1, 4)\n",
            "Queen 3 is at position (2, 7)\n",
            "Queen 4 is at position (3, 3)\n",
            "Queen 5 is at position (4, 0)\n",
            "Queen 6 is at position (5, 6)\n",
            "Queen 7 is at position (6, 1)\n",
            "Queen 8 is at position (7, 5)\n"
          ]
        }
      ],
      "source": [
        "import numpy as np\n",
        "import random\n",
        "import math\n",
        "\n",
        "def queens_cost(queens):\n",
        "    n = len(queens)\n",
        "    cost = 0\n",
        "    for i in range(n):\n",
        "        for j in range(i + 1, n):\n",
        "            if queens[i] == queens[j]:\n",
        "                cost += 1\n",
        "            elif abs(queens[i] - queens[j]) == abs(i - j):\n",
        "                cost += 1\n",
        "    return cost\n",
        "\n",
        "def simulated_annealing(n, max_iters=5000, initial_temp=1000, cooling_rate=0.995, initial_state=None):\n",
        "    if initial_state is None:\n",
        "        queens = np.random.randint(0, n, size=n)\n",
        "    else:\n",
        "        queens = np.array(initial_state)\n",
        "\n",
        "    current_cost = queens_cost(queens)\n",
        "    temp = initial_temp\n",
        "\n",
        "    best_state = queens.copy()\n",
        "    best_cost = current_cost\n",
        "\n",
        "    for _ in range(max_iters):\n",
        "        neighbor = queens.copy()\n",
        "        i = random.randint(0, n - 1)\n",
        "        neighbor[i] = random.randint(0, n - 1)\n",
        "\n",
        "        neighbor_cost = queens_cost(neighbor)\n",
        "\n",
        "        if neighbor_cost < current_cost:\n",
        "            queens = neighbor\n",
        "            current_cost = neighbor_cost\n",
        "        else:\n",
        "            if random.random() < math.exp(-(neighbor_cost - current_cost) / temp):\n",
        "                queens = neighbor\n",
        "                current_cost = neighbor_cost\n",
        "\n",
        "        if current_cost < best_cost:\n",
        "            best_state = queens.copy()\n",
        "            best_cost = current_cost\n",
        "\n",
        "        temp *= cooling_rate\n",
        "\n",
        "    return best_state, best_cost\n",
        "\n",
        "def get_input():\n",
        "    n = int(input(\"Enter the number of queens: \"))\n",
        "    initial_state = []\n",
        "\n",
        "    use_initial = input(\"Do you want to provide an initial configuration? (y/n): \").strip().lower()\n",
        "\n",
        "    if use_initial == 'y':\n",
        "        print(f\"Enter the column positions for each queen (values between 0 and {n-1}):\")\n",
        "        for i in range(n):\n",
        "            while True:\n",
        "                try:\n",
        "                    col = int(input(f\"Enter column for queen {i + 1}: \"))\n",
        "                    if col < 0 or col >= n:\n",
        "                        raise ValueError(f\"Column must be between 0 and {n - 1}.\")\n",
        "                    initial_state.append(col)\n",
        "                    break\n",
        "                except ValueError as e:\n",
        "                    print(e)\n",
        "\n",
        "    return n, initial_state\n",
        "\n",
        "n, initial_state = get_input()\n",
        "\n",
        "best_solution, best_cost = simulated_annealing(n, initial_state=initial_state)\n",
        "\n",
        "print(f\"The best solution found is: {best_solution}\")\n",
        "print(f\"The number of attacking queen pairs is: {best_cost}\")\n",
        "\n",
        "for i, col in enumerate(best_solution):\n",
        "    print(f\"Queen {i+1} is at position ({i}, {col})\")\n"
      ]
    }
  ]
}