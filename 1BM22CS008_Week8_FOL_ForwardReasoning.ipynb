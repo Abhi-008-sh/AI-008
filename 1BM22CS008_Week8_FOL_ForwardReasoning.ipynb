{
  "nbformat": 4,
  "nbformat_minor": 0,
  "metadata": {
    "colab": {
      "provenance": [],
      "authorship_tag": "ABX9TyMVcjQnY2f4vbt2JrRX/O6f",
      "include_colab_link": true
    },
    "kernelspec": {
      "name": "python3",
      "display_name": "Python 3"
    },
    "language_info": {
      "name": "python"
    }
  },
  "cells": [
    {
      "cell_type": "markdown",
      "metadata": {
        "id": "view-in-github",
        "colab_type": "text"
      },
      "source": [
        "<a href=\"https://colab.research.google.com/github/Abhi-008-sh/AI-008/blob/main/1BM22CS008_Week8_FOL_ForwardReasoning.ipynb\" target=\"_parent\"><img src=\"https://colab.research.google.com/assets/colab-badge.svg\" alt=\"Open In Colab\"/></a>"
      ]
    },
    {
      "cell_type": "code",
      "execution_count": 2,
      "metadata": {
        "colab": {
          "base_uri": "https://localhost:8080/"
        },
        "id": "D4nZ-GRzwZ4c",
        "outputId": "8fc17464-6e17-4e4c-c7eb-37398563a2bf"
      },
      "outputs": [
        {
          "output_type": "stream",
          "name": "stdout",
          "text": [
            "Derived: Weapon(T1)\n",
            "Derived: Hostile(A)\n",
            "Derived: Sells(Robert, T1, A)\n",
            "Derived: Criminal(Robert)\n",
            "Conclusion: Robert is a criminal.\n"
          ]
        }
      ],
      "source": [
        "class KnowledgeBaseSystem:\n",
        "    def __init__(self):\n",
        "        self.known_facts = set()\n",
        "        self.rules_list = []\n",
        "\n",
        "    def insert_fact(self, fact):\n",
        "        \"\"\"Insert a fact into the knowledge base.\"\"\"\n",
        "        self.known_facts.add(fact)\n",
        "\n",
        "    def insert_rule(self, rule):\n",
        "        \"\"\"Insert an inference rule into the knowledge base.\"\"\"\n",
        "        self.rules_list.append(rule)\n",
        "\n",
        "    def deduce(self):\n",
        "        \"\"\"Attempt to deduce new facts from the known facts and rules.\"\"\"\n",
        "        new_inferences = True\n",
        "        while new_inferences:\n",
        "            new_inferences = False\n",
        "            for rule in self.rules_list:\n",
        "\n",
        "                if rule.check_and_apply(self.known_facts):\n",
        "                    new_inferences = True\n",
        "\n",
        "\n",
        "class InferenceRule:\n",
        "    def __init__(self, conditions, result):\n",
        "        \"\"\"\n",
        "        Initialize an inference rule.\n",
        "\n",
        "        :param conditions: A list of conditions (facts) that must be true.\n",
        "        :param result: The conclusion to derive if the conditions are met.\n",
        "        \"\"\"\n",
        "        self.conditions = conditions\n",
        "        self.result = result\n",
        "\n",
        "    def check_and_apply(self, facts):\n",
        "        \"\"\"Check if the rule's conditions are met and apply the result.\"\"\"\n",
        "        if all(condition in facts for condition in self.conditions):\n",
        "            if self.result not in facts:\n",
        "                facts.add(self.result)\n",
        "                print(f\"Derived: {self.result}\")\n",
        "                return True\n",
        "        return False\n",
        "\n",
        "\n",
        "\n",
        "knowledge_base = KnowledgeBaseSystem()\n",
        "\n",
        "\n",
        "knowledge_base.insert_fact(\"American(Robert)\")\n",
        "knowledge_base.insert_fact(\"Missile(T1)\")\n",
        "knowledge_base.insert_fact(\"Owns(A, T1)\")\n",
        "knowledge_base.insert_fact(\"Enemy(A, America)\")\n",
        "\n",
        "\n",
        "knowledge_base.insert_rule(InferenceRule([\"Missile(T1)\"], \"Weapon(T1)\"))\n",
        "knowledge_base.insert_rule(InferenceRule([\"Enemy(A, America)\"], \"Hostile(A)\"))\n",
        "knowledge_base.insert_rule(InferenceRule([\"Missile(T1)\", \"Owns(A, T1)\"], \"Sells(Robert, T1, A)\"))\n",
        "knowledge_base.insert_rule(InferenceRule(\n",
        "    [\"American(Robert)\", \"Weapon(T1)\", \"Sells(Robert, T1, A)\", \"Hostile(A)\"], \"Criminal(Robert)\"))\n",
        "\n",
        "\n",
        "knowledge_base.deduce()\n",
        "\n",
        "if \"Criminal(Robert)\" in knowledge_base.known_facts:\n",
        "    print(\"Conclusion: Robert is a criminal.\")\n",
        "else:\n",
        "    print(\"Conclusion: Unable to prove Robert is a criminal.\")"
      ]
    }
  ]
}